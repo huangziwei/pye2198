{
 "cells": [
  {
   "cell_type": "code",
   "execution_count": 1,
   "metadata": {},
   "outputs": [],
   "source": [
    "import numpy as np\n",
    " \n",
    "from pye2198 import Cell"
   ]
  },
  {
   "cell_type": "code",
   "execution_count": 2,
   "metadata": {},
   "outputs": [
    {
     "name": "stdout",
     "output_type": "stream",
     "text": [
      "1 10.54662189961233 0.367212389380531\n",
      "2 9.883382441798378 0.28088125\n",
      "3 13.546805967813347 0.20432258064516132\n",
      "4 12.80985449078605 0.20422109533468563\n",
      "5 20.38710203249554 0.189813704496788\n",
      "6 18.685378633935358 0.1915698113207547\n",
      "7 19.92972846027324 0.18470674846625768\n",
      "8 16.74488570246494 0.19796412556053813\n",
      "9 17.877351719367816 0.18903465346534654\n",
      "10 11.746163765465392 0.17970431893687708\n",
      "11 21.564041794294617 0.21005500000000002\n",
      "12 13.314726550141568 0.20368085106382977\n",
      "13 14.248748667669282 0.24941666666666665\n"
     ]
    }
   ],
   "source": [
    "c = Cell(20222)\n",
    "c.load_pickle()\n",
    "\n",
    "list_branches = np.unique(c.df_paths.back_to_soma.apply(len))\n",
    "for num_branches in list_branches:\n",
    "    radius_mns = np.mean(np.hstack(c.df_paths[c.df_paths.back_to_soma.apply(len) == num_branches].radius.apply(lambda x: x[1:]).values))\n",
    "    length_mns = np.mean(np.hstack(c.df_paths[c.df_paths.back_to_soma.apply(len) == num_branches].path.apply(lambda x: np.sum(np.sqrt(np.sum((x[1:][1:] - x[1:][:-1])**2, 1)))).values))\n",
    "    print(num_branches, length_mns, radius_mns)"
   ]
  },
  {
   "cell_type": "code",
   "execution_count": null,
   "metadata": {},
   "outputs": [],
   "source": []
  }
 ],
 "metadata": {
  "kernelspec": {
   "display_name": "base",
   "language": "python",
   "name": "python3"
  },
  "language_info": {
   "codemirror_mode": {
    "name": "ipython",
    "version": 3
   },
   "file_extension": ".py",
   "mimetype": "text/x-python",
   "name": "python",
   "nbconvert_exporter": "python",
   "pygments_lexer": "ipython3",
   "version": "3.10.9"
  },
  "varInspector": {
   "cols": {
    "lenName": 16,
    "lenType": 16,
    "lenVar": 40
   },
   "kernels_config": {
    "python": {
     "delete_cmd_postfix": "",
     "delete_cmd_prefix": "del ",
     "library": "var_list.py",
     "varRefreshCmd": "print(var_dic_list())"
    },
    "r": {
     "delete_cmd_postfix": ") ",
     "delete_cmd_prefix": "rm(",
     "library": "var_list.r",
     "varRefreshCmd": "cat(var_dic_list()) "
    }
   },
   "types_to_exclude": [
    "module",
    "function",
    "builtin_function_or_method",
    "instance",
    "_Feature"
   ],
   "window_display": false
  },
  "vscode": {
   "interpreter": {
    "hash": "0dfb534dcc21cc344c654f342c84bc6c57f424a8b8b0a7184a4826c2b0c2fa8e"
   }
  }
 },
 "nbformat": 4,
 "nbformat_minor": 4
}
