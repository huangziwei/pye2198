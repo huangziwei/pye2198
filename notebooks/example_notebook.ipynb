{
 "cells": [
  {
   "cell_type": "code",
   "execution_count": 1,
   "metadata": {},
   "outputs": [],
   "source": [
    "from pye2198 import Cell"
   ]
  },
  {
   "cell_type": "code",
   "execution_count": 2,
   "metadata": {},
   "outputs": [],
   "source": [
    "c = Cell(20222)\n",
    "c.load_pickle()"
   ]
  },
  {
   "cell_type": "code",
   "execution_count": 4,
   "metadata": {},
   "outputs": [
    {
     "name": "stdout",
     "output_type": "stream",
     "text": [
      "1 2.9016023309013415 0.367212389380531\n",
      "2 2.7907144086396305 0.28088125\n",
      "3 3.005573194687969 0.20432258064516132\n",
      "4 2.991011406961777 0.20422109533468563\n",
      "5 3.761286211336417 0.189813704496788\n",
      "6 3.6563449074446965 0.1915698113207547\n",
      "7 3.7271024899715943 0.18470674846625768\n",
      "8 3.470435220228808 0.19796412556053813\n",
      "9 3.3306230904784564 0.18903465346534654\n",
      "10 2.748510570726068 0.17970431893687708\n",
      "11 4.150108138586876 0.21005500000000002\n",
      "12 3.18609137303797 0.20368085106382977\n",
      "13 3.3105981600228747 0.24941666666666665\n"
     ]
    }
   ],
   "source": [
    "list_branches = np.unique(c.df_paths.back_to_soma.apply(len))\n",
    "for num_branches in list_branches:\n",
    "    radius_mns = np.mean(np.hstack(c.df_paths[c.df_paths.back_to_soma.apply(len) == num_branches].radius.apply(lambda x: x[1:]).values))\n",
    "    lenngth_mns = np.mean(np.hstack(c.df_paths[c.df_paths.back_to_soma.apply(len) == num_branches].path.apply(lambda x: np.sqrt(np.sum((x[1:][1:] - x[1:][:-1])**2))).values))\n",
    "    print(num_branches, lenngth_mns, radius_mns)"
   ]
  },
  {
   "cell_type": "code",
   "execution_count": null,
   "metadata": {},
   "outputs": [],
   "source": []
  }
 ],
 "metadata": {
  "kernelspec": {
   "display_name": "Python 3",
   "language": "python",
   "name": "python3"
  },
  "language_info": {
   "codemirror_mode": {
    "name": "ipython",
    "version": 3
   },
   "file_extension": ".py",
   "mimetype": "text/x-python",
   "name": "python",
   "nbconvert_exporter": "python",
   "pygments_lexer": "ipython3",
   "version": "3.6.9"
  },
  "varInspector": {
   "cols": {
    "lenName": 16,
    "lenType": 16,
    "lenVar": 40
   },
   "kernels_config": {
    "python": {
     "delete_cmd_postfix": "",
     "delete_cmd_prefix": "del ",
     "library": "var_list.py",
     "varRefreshCmd": "print(var_dic_list())"
    },
    "r": {
     "delete_cmd_postfix": ") ",
     "delete_cmd_prefix": "rm(",
     "library": "var_list.r",
     "varRefreshCmd": "cat(var_dic_list()) "
    }
   },
   "types_to_exclude": [
    "module",
    "function",
    "builtin_function_or_method",
    "instance",
    "_Feature"
   ],
   "window_display": false
  }
 },
 "nbformat": 4,
 "nbformat_minor": 4
}
